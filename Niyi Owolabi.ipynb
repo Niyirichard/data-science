{
 "cells": [
  {
   "cell_type": "code",
   "execution_count": null,
   "id": "b0df4dd9",
   "metadata": {},
   "outputs": [],
   "source": [
    "1.Write a Python program to replace all occurrences of a space, comma, or dot with a colon."
   ]
  },
  {
   "cell_type": "code",
   "execution_count": 5,
   "id": "91509eb7",
   "metadata": {},
   "outputs": [],
   "source": [
    "Txt= 'python Exercises, PHP exercises.'"
   ]
  },
  {
   "cell_type": "code",
   "execution_count": 6,
   "id": "bb3cf01e",
   "metadata": {},
   "outputs": [
    {
     "name": "stdout",
     "output_type": "stream",
     "text": [
      "python : Exercises: : PHP : exercises:\n"
     ]
    }
   ],
   "source": [
    "New_Txt=Txt.replace(' ',' : ').replace(',',':').replace('.',':')\n",
    "print(New_Txt)"
   ]
  },
  {
   "cell_type": "code",
   "execution_count": 8,
   "id": "e98197d9",
   "metadata": {},
   "outputs": [],
   "source": [
    "import numpy as np\n",
    "import pandas as pd\n",
    "import warnings\n",
    "warnings.filterwarnings('ignore')"
   ]
  },
  {
   "cell_type": "code",
   "execution_count": null,
   "id": "b26cc641",
   "metadata": {},
   "outputs": [],
   "source": []
  },
  {
   "cell_type": "code",
   "execution_count": null,
   "id": "1720e90b",
   "metadata": {},
   "outputs": [],
   "source": [
    "2.-  Create a dataframe using the dictionary below and remove everything (commas (,), !, XXXX, ;, etc.) from the columns except words."
   ]
  },
  {
   "cell_type": "code",
   "execution_count": 12,
   "id": "d84b7caf",
   "metadata": {},
   "outputs": [],
   "source": [
    "Dictionary={'SUMMARY':['hello,world','XXXXX test','123four,five:;six...']}"
   ]
  },
  {
   "cell_type": "code",
   "execution_count": 31,
   "id": "06f79497",
   "metadata": {},
   "outputs": [
    {
     "data": {
      "text/html": [
       "<div>\n",
       "<style scoped>\n",
       "    .dataframe tbody tr th:only-of-type {\n",
       "        vertical-align: middle;\n",
       "    }\n",
       "\n",
       "    .dataframe tbody tr th {\n",
       "        vertical-align: top;\n",
       "    }\n",
       "\n",
       "    .dataframe thead th {\n",
       "        text-align: right;\n",
       "    }\n",
       "</style>\n",
       "<table border=\"1\" class=\"dataframe\">\n",
       "  <thead>\n",
       "    <tr style=\"text-align: right;\">\n",
       "      <th></th>\n",
       "      <th>SUMMARY</th>\n",
       "    </tr>\n",
       "  </thead>\n",
       "  <tbody>\n",
       "    <tr>\n",
       "      <th>0</th>\n",
       "      <td>hello,world</td>\n",
       "    </tr>\n",
       "    <tr>\n",
       "      <th>1</th>\n",
       "      <td>XXXXX test</td>\n",
       "    </tr>\n",
       "    <tr>\n",
       "      <th>2</th>\n",
       "      <td>123four,five:;six...</td>\n",
       "    </tr>\n",
       "  </tbody>\n",
       "</table>\n",
       "</div>"
      ],
      "text/plain": [
       "                SUMMARY\n",
       "0           hello,world\n",
       "1            XXXXX test\n",
       "2  123four,five:;six..."
      ]
     },
     "execution_count": 31,
     "metadata": {},
     "output_type": "execute_result"
    }
   ],
   "source": [
    "df=pd.DataFrame(Dictionary)\n",
    "df"
   ]
  },
  {
   "cell_type": "code",
   "execution_count": 33,
   "id": "cd795abb",
   "metadata": {},
   "outputs": [
    {
     "data": {
      "text/html": [
       "<div>\n",
       "<style scoped>\n",
       "    .dataframe tbody tr th:only-of-type {\n",
       "        vertical-align: middle;\n",
       "    }\n",
       "\n",
       "    .dataframe tbody tr th {\n",
       "        vertical-align: top;\n",
       "    }\n",
       "\n",
       "    .dataframe thead th {\n",
       "        text-align: right;\n",
       "    }\n",
       "</style>\n",
       "<table border=\"1\" class=\"dataframe\">\n",
       "  <thead>\n",
       "    <tr style=\"text-align: right;\">\n",
       "      <th></th>\n",
       "      <th>SUMMARY</th>\n",
       "    </tr>\n",
       "  </thead>\n",
       "  <tbody>\n",
       "    <tr>\n",
       "      <th>0</th>\n",
       "      <td>helloworld</td>\n",
       "    </tr>\n",
       "    <tr>\n",
       "      <th>1</th>\n",
       "      <td>XXXXX test</td>\n",
       "    </tr>\n",
       "    <tr>\n",
       "      <th>2</th>\n",
       "      <td>fourfivesix</td>\n",
       "    </tr>\n",
       "  </tbody>\n",
       "</table>\n",
       "</div>"
      ],
      "text/plain": [
       "       SUMMARY\n",
       "0   helloworld\n",
       "1   XXXXX test\n",
       "2  fourfivesix"
      ]
     },
     "execution_count": 33,
     "metadata": {},
     "output_type": "execute_result"
    }
   ],
   "source": [
    "df['SUMMARY']=df['SUMMARY'].str.replace('[^a-zA-Z\\s]','',regex=True)\n",
    "df"
   ]
  },
  {
   "cell_type": "code",
   "execution_count": null,
   "id": "be8369e7",
   "metadata": {},
   "outputs": [],
   "source": [
    "3. Create a function in python to find all words that are at least 4 characters long in a string. The use of the re.compile() method is mandatory."
   ]
  },
  {
   "cell_type": "code",
   "execution_count": 35,
   "id": "8d9ca9dc",
   "metadata": {},
   "outputs": [],
   "source": [
    "import re"
   ]
  },
  {
   "cell_type": "code",
   "execution_count": 44,
   "id": "376aa330",
   "metadata": {},
   "outputs": [],
   "source": [
    "import re\n",
    "def find_words(string):\n",
    "  pat=re.compile(r'\\b\\w{3,5}\\b')\n",
    "  matches=pat.findall(string)\n",
    "  return matches"
   ]
  },
  {
   "cell_type": "code",
   "execution_count": 45,
   "id": "fc0af0c3",
   "metadata": {},
   "outputs": [
    {
     "name": "stdout",
     "output_type": "stream",
     "text": [
      "['This', 'with', 'words']\n"
     ]
    }
   ],
   "source": [
    "string=\"This is a sample with words of different lengths.\"\n",
    "result=find_words(string)\n",
    "print(result)"
   ]
  },
  {
   "cell_type": "code",
   "execution_count": null,
   "id": "635bc3bd",
   "metadata": {},
   "outputs": [],
   "source": [
    "4. - Create a function in python to find all three, four, and five character words in a string. The use of the re.compile() method is mandatory."
   ]
  },
  {
   "cell_type": "code",
   "execution_count": 89,
   "id": "e4d741e4",
   "metadata": {},
   "outputs": [],
   "source": [
    "import re\n",
    "def find_words(string):\n",
    "  pat=re.compile(r'\\b\\w{3,5}\\b')\n",
    "  matches=pat.findall(string)\n",
    "  return matches"
   ]
  },
  {
   "cell_type": "code",
   "execution_count": 90,
   "id": "a1bd722b",
   "metadata": {},
   "outputs": [
    {
     "name": "stdout",
     "output_type": "stream",
     "text": [
      "['This', 'with', 'words']\n"
     ]
    }
   ],
   "source": [
    "string=\"This is a sample with words of different lengths.\"\n",
    "result2=find_words(string)\n",
    "print(result2)"
   ]
  },
  {
   "cell_type": "code",
   "execution_count": null,
   "id": "6dacedd7",
   "metadata": {},
   "outputs": [],
   "source": [
    "5. - Create a function in Python to remove the parenthesis in a list of strings. The use of the re.compile() method is mandatory/y/."
   ]
  },
  {
   "cell_type": "code",
   "execution_count": 105,
   "id": "1a9d9986",
   "metadata": {},
   "outputs": [],
   "source": [
    "\n",
    "def remove_parentheses(strings):\n",
    "    pattern=re.compile(r\"\\(\\)\")\n",
    "    modified_strings=[]\n",
    "    modified_string=re.sub(pattern,\"\",string)\n",
    "    modified_strings.append(modified_string)\n",
    "    return modified_strings"
   ]
  },
  {
   "cell_type": "code",
   "execution_count": 107,
   "id": "78edc5c0",
   "metadata": {},
   "outputs": [
    {
     "name": "stdout",
     "output_type": "stream",
     "text": [
      "['This is a sample with words of different lengths.']\n"
     ]
    }
   ],
   "source": [
    "def remove_parentheses(sample_text):\n",
    "    pattern=re.compile(r\"\\(\\)\")\n",
    "    sample_text=[\"example (.com)\",\"hr@fliprobo (.com)\",\"github (.com)\",\"Hello (Data Science World)\",\"Data (Scientist)\"]\n",
    "    result1=remove_parentheses(sample_text)\n",
    "print(result1)                        "
   ]
  },
  {
   "cell_type": "code",
   "execution_count": null,
   "id": "289049ad",
   "metadata": {},
   "outputs": [],
   "source": [
    "7. Write a regular expression in Python to split a string into uppercase letters."
   ]
  },
  {
   "cell_type": "code",
   "execution_count": 120,
   "id": "fa43f1a4",
   "metadata": {},
   "outputs": [
    {
     "name": "stdout",
     "output_type": "stream",
     "text": [
      "['Importance', 'Of', 'Regular', 'Expressions', 'In', 'Python']\n"
     ]
    }
   ],
   "source": [
    "import re\n",
    "Sampletext = \"ImportanceOfRegularExpressionsInPython\"\n",
    "print(re.findall('[A-Z][^A-Z]*', Sampletext))    "
   ]
  },
  {
   "cell_type": "code",
   "execution_count": null,
   "id": "bfb18fa0",
   "metadata": {},
   "outputs": [],
   "source": [
    "8.Create a function in python to insert spaces between words starting with numbers"
   ]
  },
  {
   "cell_type": "code",
   "execution_count": 144,
   "id": "99f470d1",
   "metadata": {},
   "outputs": [],
   "source": [
    "import re\n",
    "def Insert_spaces(Sample_Text): \n",
    "    Sample_Text=\"RegularExpression1IsAn2ImportantTopic3InPython\"\n",
    "    Pattern=r'(\\d+)([(A-Za-Z]+)' \n",
    "    output=re.sub(pattern,r'\\1\\2',Sample_Text)\n",
    "    print(Output)  "
   ]
  },
  {
   "cell_type": "code",
   "execution_count": null,
   "id": "b5470b4f",
   "metadata": {},
   "outputs": [],
   "source": []
  },
  {
   "cell_type": "code",
   "execution_count": null,
   "id": "d555d543",
   "metadata": {},
   "outputs": [],
   "source": []
  },
  {
   "cell_type": "code",
   "execution_count": null,
   "id": "b76b36af",
   "metadata": {},
   "outputs": [],
   "source": [
    "         "
   ]
  },
  {
   "cell_type": "code",
   "execution_count": null,
   "id": "551c0fec",
   "metadata": {},
   "outputs": [],
   "source": [
    "\n"
   ]
  },
  {
   "cell_type": "code",
   "execution_count": null,
   "id": "d0be5ef3",
   "metadata": {},
   "outputs": [],
   "source": []
  },
  {
   "cell_type": "code",
   "execution_count": null,
   "id": "f546d21e",
   "metadata": {},
   "outputs": [],
   "source": []
  },
  {
   "cell_type": "code",
   "execution_count": null,
   "id": "98d32adf",
   "metadata": {},
   "outputs": [],
   "source": []
  },
  {
   "cell_type": "code",
   "execution_count": null,
   "id": "eed8720a",
   "metadata": {},
   "outputs": [],
   "source": []
  }
 ],
 "metadata": {
  "kernelspec": {
   "display_name": "Python 3 (ipykernel)",
   "language": "python",
   "name": "python3"
  },
  "language_info": {
   "codemirror_mode": {
    "name": "ipython",
    "version": 3
   },
   "file_extension": ".py",
   "mimetype": "text/x-python",
   "name": "python",
   "nbconvert_exporter": "python",
   "pygments_lexer": "ipython3",
   "version": "3.10.9"
  }
 },
 "nbformat": 4,
 "nbformat_minor": 5
}
